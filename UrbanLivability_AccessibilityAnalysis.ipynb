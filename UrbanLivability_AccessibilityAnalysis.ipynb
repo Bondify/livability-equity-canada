{
 "cells": [
  {
   "cell_type": "markdown",
   "metadata": {},
   "source": [
    "# Quantifying accessibility to urban amenities accross canadian cities"
   ]
  },
  {
   "cell_type": "markdown",
   "metadata": {},
   "source": [
    "#### Purpose of this notebook\n",
    "- 1) Download point, polygon, and pedestrian street networks from openstreetmap\n",
    "- 2) Classify amenities and points of interests into 7 different categories\n",
    "- 3) Calculate walking distances from each node in the network to the first nearest category\n",
    "- 4) Calculate average accessibility (walking distance) by census DA (dissemination area)"
   ]
  },
  {
   "cell_type": "code",
   "execution_count": 2,
   "metadata": {},
   "outputs": [],
   "source": [
    "import osmnx as ox\n",
    "import pandas as pd\n",
    "import geopandas as gpd\n",
    "import pandana as pdna\n",
    "from pandana.loaders import osm\n",
    "import matplotlib.pyplot as plt\n",
    "from shapely import geometry\n",
    "import fiona\n",
    "%matplotlib inline\n",
    "import os\n",
    "os.chdir('C:/Users/Leonardo/Documents/MetroWork/RealEstateData')"
   ]
  },
  {
   "cell_type": "code",
   "execution_count": 1,
   "metadata": {},
   "outputs": [],
   "source": [
    "# Create a pandana network from a bounding box\n",
    "MT_network = osm.pdna_network_from_bbox(43.0561, -80.4491, 44.3931, -78.0277, network_type='walk')\n",
    "MM_network = osm.pdna_network_from_bbox(45.145, -74.3077, 45.9284, -73.1318, network_type='walk')\n",
    "MV_network = osm.pdna_network_from_bbox(49.0039, -123.4715, 49.5672, -122.4432, network_type='walk')\n",
    "MO_network = osm.pdna_network_from_bbox(44.9548, -76.4648, 46.0237, -75.1268, network_type='walk')\n",
    "ME_network = osm.pdna_network_from_bbox(53.0242, -114.9426, 54.0103, -112.6126, network_type='walk')\n",
    "MC_network = osm.pdna_network_from_bbox(50.2284,-114.8995, 51.6327, -113.0863, network_type='walk')"
   ]
  },
  {
   "cell_type": "code",
   "execution_count": 4,
   "metadata": {},
   "outputs": [],
   "source": [
    "#load city boundary polygons\n",
    "MTAREA = gpd.read_file(\"Boundaries/MTAREA.shp\")\n",
    "MTAREA = ox.project_gdf(MTAREA, to_latlong=True)\n",
    "MVAREA = gpd.read_file(\"Boundaries/MVAREA.shp\")\n",
    "MVAREA = ox.project_gdf(MVAREA, to_latlong=True)\n",
    "MMAREA = gpd.read_file(\"Boundaries/MMAREA.shp\")\n",
    "MMAREA = ox.project_gdf(MMAREA, to_latlong=True)\n",
    "MCAREA = gpd.read_file(\"Boundaries/MCAREA.shp\")\n",
    "MCAREA = ox.project_gdf(MCAREA, to_latlong=True)\n",
    "MEAREA = gpd.read_file(\"Boundaries/MEAREA.shp\")\n",
    "MEAREA = ox.project_gdf(MEAREA, to_latlong=True)\n",
    "MOAREA = gpd.read_file(\"Boundaries/MOAREA.shp\")\n",
    "MOAREA = ox.project_gdf(MOAREA, to_latlong=True)"
   ]
  },
  {
   "cell_type": "code",
   "execution_count": 5,
   "metadata": {},
   "outputs": [],
   "source": [
    "def create_poi_gdf(MAREA = None):\n",
    "\n",
    "    ##public transport\n",
    "    #get public transport (rail) network of metro vancouver\n",
    "    rail = ox.graph_from_polygon(MAREA.iloc[0,1], network_type='all',\n",
    "                                  infrastructure='way[\"railway\"]')\n",
    "    #make rail pois\n",
    "    rail_gdf = ox.save_load.graph_to_gdfs(rail, nodes=True, edges=False, node_geometry=True, fill_edge_geometry=True)\n",
    "    rail_gdf['amenity'] = 'transit_stop'\n",
    "    rail_gdf = rail_gdf[['amenity', 'geometry']]\n",
    "\n",
    "    #get public bus stops\n",
    "    bus = ox.footprints.footprints_from_polygon(polygon = MAREA.iloc[0,1], footprint_type = 'public_transport')\n",
    "    bus['amenity'] = 'public_transport'\n",
    "    bus['centroid'] = bus.centroid\n",
    "    bus = bus.set_geometry('centroid')\n",
    "    bus = bus[['amenity', 'centroid']]\n",
    "    bus = bus.rename(columns = {\"centroid\": \"geometry\"})\n",
    "\n",
    "    ##amenities pois\n",
    "    # define your selected amenities\n",
    "    amenities = [\"transit_stop\", \"bus_station\", \"bus_stop\", \"bicycle_parking\", \"gym\", \"park\", \"pub\", \"bar\", \"theatre\", \n",
    "                 \"cinema\", \"nightclub\", \"events_venue\", \"restaurant\", \"cafe\", \"food_court\", \"marketplace\", \"community_centre\", \n",
    "                 \"library\", \"social_facility\", \"social_centre\", \"townhall\", \"school\", \"childcare\", \"child_care\", \"kindergarten\",\n",
    "                 \"university\", \"college\", \"pharmacy\", \"dentist\", \"clinic\", \"hospital\", \"doctors\", \"bank\"]\n",
    "\n",
    "    #request amenities from the OpenStreetMap API (Overpass)\n",
    "    pois = ox.pois_from_polygon(MAREA.iloc[0,1])\n",
    "    pois = pois[pois['amenity'].isin(amenities)]\n",
    "    pois = pois[['amenity','geometry']]\n",
    "\n",
    "    #get parks and \"leisure\" elements\n",
    "    leisure = [\"fitness_centre\", \"sports_centre\", \"park\", \"pitch\", \"playground\", \"swimming_pool\", \"garden\", \"golf_course\", \"sports_centre\", \n",
    "               \"ice_rink\", \"dog_park\", \"nature_reserve\", \"fitness_centre\", \"marina\", \"recreation_ground\", \"fitness_station\", \"skate_park\"]\n",
    "\n",
    "    parks = ox.footprints.footprints_from_polygon(polygon = MAREA.iloc[0,1], footprint_type = 'leisure')\n",
    "    parks = parks[parks['leisure'].isin(leisure)]\n",
    "    parks['centroid'] = parks.centroid\n",
    "    parks = parks.set_geometry('centroid')\n",
    "    parks = parks[['leisure','centroid']]\n",
    "    parks = parks.rename(columns = {\"leisure\":\"amenity\",\"centroid\": \"geometry\"})\n",
    "\n",
    "    #merge all the dataframes together\n",
    "    #merge dataframes together\n",
    "    pois_list = [pois,rail_gdf, bus, parks]\n",
    "    pois_all = pd.concat(pois_list, axis=0, ignore_index=True)\n",
    "\n",
    "    #aggregate all amenities by category\n",
    "    mobility = [\"transit_stop\", \"bus_station\", \"bus_stop\", \"public_transport\"]\n",
    "\n",
    "    active_living = [\"bicycle_parking\", \"gym\", \"fitness_centre\", \"sports_centre\", \"park\", \"pitch\", \"playground\", \"swimming_pool\", \n",
    "                     \"garden\", \"golf_course\", \"sports_centre\",\"ice_rink\", \"dog_park\", \"nature_reserve\", \"fitness_centre\", \"marina\", \n",
    "                     \"recreation_ground\", \"fitness_station\", \"skate_park\"]\n",
    "\n",
    "    nightlife = [\"pub\", \"bar\", \"theatre\", \"cinema\", \"nightclub\", \"events_venue\"]\n",
    "\n",
    "    food_choices = [\"restaurant\", \"cafe\", \"food_court\", \"marketplace\"]\n",
    "\n",
    "    community_space = [\"community_centre\", \"library\", \"social_facility\", \"social_centre\", \"townhall\"]\n",
    "\n",
    "    education = [\"school\", \"childcare\", \"child_care\", \"kindergarten\", \"university\", \"college\"]\n",
    "\n",
    "    health_wellbeing = [\"pharmacy\", \"dentist\", \"clinic\", \"hospital\", \"doctors\", \"bank\"]\n",
    "\n",
    "    cat_list = [mobility, active_living, nightlife, food_choices, community_space, education, health_wellbeing]\n",
    "    cat_list_str = [\"mobility\", \"active_living\", \"nightlife\", \"food_choices\", \"community_space\", \"education\", \"health_wellbeing\"]\n",
    "\n",
    "    for cat in cat_list:\n",
    "        cat_index = cat_list.index(cat)\n",
    "        pois_all.amenity[pois_all['amenity'].isin(cat)] = cat_list_str[cat_index]\n",
    "\n",
    "    #create x and y columns for network analysis\n",
    "    pois_all['x'] = pois_all.centroid.x\n",
    "    pois_all['y'] = pois_all.centroid.y\n",
    "    \n",
    "    pois_all['centroid'] = pois_all.centroid\n",
    "    pois_all = pois_all.set_geometry('centroid')\n",
    "    pois_all = pois_all[['amenity', 'x', 'y','centroid']]\n",
    "    pois_all = pois_all.rename(columns = {\"centroid\": \"geometry\"})\n",
    "    pois_all = pois_all.set_geometry('geometry')\n",
    "    \n",
    "    return pois_all"
   ]
  },
  {
   "cell_type": "code",
   "execution_count": 6,
   "metadata": {},
   "outputs": [
    {
     "name": "stderr",
     "output_type": "stream",
     "text": [
      "C:\\Users\\Leonardo\\Anaconda3\\lib\\site-packages\\ipykernel_launcher.py:70: SettingWithCopyWarning: \n",
      "A value is trying to be set on a copy of a slice from a DataFrame\n",
      "\n",
      "See the caveats in the documentation: http://pandas.pydata.org/pandas-docs/stable/user_guide/indexing.html#returning-a-view-versus-a-copy\n",
      "C:\\Users\\Leonardo\\Anaconda3\\lib\\site-packages\\ipykernel_launcher.py:70: SettingWithCopyWarning: \n",
      "A value is trying to be set on a copy of a slice from a DataFrame\n",
      "\n",
      "See the caveats in the documentation: http://pandas.pydata.org/pandas-docs/stable/user_guide/indexing.html#returning-a-view-versus-a-copy\n",
      "C:\\Users\\Leonardo\\Anaconda3\\lib\\site-packages\\ipykernel_launcher.py:70: SettingWithCopyWarning: \n",
      "A value is trying to be set on a copy of a slice from a DataFrame\n",
      "\n",
      "See the caveats in the documentation: http://pandas.pydata.org/pandas-docs/stable/user_guide/indexing.html#returning-a-view-versus-a-copy\n",
      "C:\\Users\\Leonardo\\Anaconda3\\lib\\site-packages\\ipykernel_launcher.py:70: SettingWithCopyWarning: \n",
      "A value is trying to be set on a copy of a slice from a DataFrame\n",
      "\n",
      "See the caveats in the documentation: http://pandas.pydata.org/pandas-docs/stable/user_guide/indexing.html#returning-a-view-versus-a-copy\n",
      "C:\\Users\\Leonardo\\Anaconda3\\lib\\site-packages\\ipykernel_launcher.py:70: SettingWithCopyWarning: \n",
      "A value is trying to be set on a copy of a slice from a DataFrame\n",
      "\n",
      "See the caveats in the documentation: http://pandas.pydata.org/pandas-docs/stable/user_guide/indexing.html#returning-a-view-versus-a-copy\n"
     ]
    }
   ],
   "source": [
    "#download pois for all cities\n",
    "MTAREA_pois = create_poi_gdf(MAREA = MTAREA)\n",
    "MMAREA_pois = create_poi_gdf(MAREA = MMAREA)\n",
    "MVAREA_pois = create_poi_gdf(MAREA = MVAREA)\n",
    "MCAREA_pois = create_poi_gdf(MAREA = MCAREA)\n",
    "MEAREA_pois = create_poi_gdf(MAREA = MEAREA)\n",
    "MOAREA_pois = create_poi_gdf(MAREA = MOAREA)"
   ]
  },
  {
   "cell_type": "code",
   "execution_count": 26,
   "metadata": {},
   "outputs": [],
   "source": [
    "MTAREA_pois_df = MTAREA_pois[['amenity', 'x', 'y']]\n",
    "MMAREA_pois_df = MMAREA_pois[['amenity', 'x', 'y']]\n",
    "MVAREA_pois_df = MVAREA_pois[['amenity', 'x', 'y']]\n",
    "MCAREA_pois_df = MCAREA_pois[['amenity', 'x', 'y']]\n",
    "MEAREA_pois_df = MEAREA_pois[['amenity', 'x', 'y']]\n",
    "MOAREA_pois_df = MOAREA_pois[['amenity', 'x', 'y']]"
   ]
  },
  {
   "cell_type": "code",
   "execution_count": 30,
   "metadata": {},
   "outputs": [],
   "source": [
    "#save pois for each city so we dont have to download them again\n",
    "MTAREA_pois_df.to_csv(\"access_cleanfiles/pois/tables/MTAREA_pois.csv\")\n",
    "MMAREA_pois_df.to_csv(\"access_cleanfiles/pois/tables/MMAREA_pois.csv\")\n",
    "MVAREA_pois_df.to_csv(\"access_cleanfiles/pois/tables/MVAREA_pois.csv\")\n",
    "MCAREA_pois_df.to_csv(\"access_cleanfiles/pois/tables/MCAREA_pois.csv\")\n",
    "MEAREA_pois_df.to_csv(\"access_cleanfiles/pois/tables/MEAREA_pois.csv\")\n",
    "MOAREA_pois_df.to_csv(\"access_cleanfiles/pois/tables/MOAREA_pois.csv\")"
   ]
  },
  {
   "cell_type": "code",
   "execution_count": 70,
   "metadata": {},
   "outputs": [],
   "source": [
    "#save pois for each city so we dont have to download them again\n",
    "MTAREA_pois.to_file(\"access_cleanfiles/pois/points/MTAREA_pois.shp\")\n",
    "MMAREA_pois.to_file(\"access_cleanfiles/pois/points/MMAREA_pois.shp\")\n",
    "MVAREA_pois.to_file(\"access_cleanfiles/pois/points/MVAREA_pois.shp\")\n",
    "MCAREA_pois.to_file(\"access_cleanfiles/pois/points/MCAREA_pois.shp\")\n",
    "MEAREA_pois.to_file(\"access_cleanfiles/pois/points/MEAREA_pois.shp\")\n",
    "MOAREA_pois.to_file(\"access_cleanfiles/pois/points/MOAREA_pois.shp\")"
   ]
  },
  {
   "cell_type": "code",
   "execution_count": 176,
   "metadata": {},
   "outputs": [],
   "source": [
    "#function to compute accessibility indicator for each category with regards to each node on the network\n",
    "def create_access_gdf(MAREA_pois = None, network = None, MAREA = None):\n",
    "\n",
    "    cat_list_str = [\"mobility\", \"active_living\", \"nightlife\", \"food_choices\", \"community_space\", \"education\", \"health_wellbeing\"]\n",
    "\n",
    "    #create dummy dataframe (only way of doing it so far is to run dummy network analysis at 1m)\n",
    "    for cat in cat_list_str:\n",
    "        pois_subset = MAREA_pois[MAREA_pois['amenity']==cat]\n",
    "        network.set_pois(category = cat, maxdist = 1, maxitems=len(pois_subset), x_col=pois_subset['x'], y_col=pois_subset['y'])\n",
    "        accessibility = network.nearest_pois(distance=1, category=cat) \n",
    "        \n",
    "    #now calculate distances\n",
    "    for cat in cat_list_str:\n",
    "        pois_subset = MAREA_pois[MAREA_pois['amenity']==cat]\n",
    "        network.set_pois(category = cat, maxdist = 10000, maxitems=len(pois_subset), \n",
    "                                 x_col=pois_subset['x'], y_col=pois_subset['y'])\n",
    "\n",
    "        accessibility[str(cat)] = network.nearest_pois(distance=10000, category=cat) \n",
    "\n",
    "    accessibility = accessibility[[\"mobility\", \"active_living\", \"nightlife\", \"food_choices\", \n",
    "                                        \"community_space\", \"education\", \"health_wellbeing\"]]\n",
    "\n",
    "    #get walking network of Toronto\n",
    "    walk = ox.graph_from_polygon(MAREA.iloc[0,1], network_type='walk')\n",
    "    #convert walking network to tuple with nodes and edges gdfs\n",
    "    walk_gdf = ox.save_load.graph_to_gdfs(walk, nodes=True, edges=False, node_geometry=True, fill_edge_geometry=True)\n",
    "\n",
    "    import os\n",
    "    os.chdir(r\"C:\\Users\\Leonardo\\Documents\\MetroWork\")\n",
    "    #merge accessibility values with walk nodes ids geodataframe\n",
    "    access = pd.merge(accessibility,\n",
    "                               walk_gdf,\n",
    "                               left_on='id',\n",
    "                               right_on='osmid',\n",
    "                               how='right')\n",
    "    #convert to geodataframe\n",
    "    access = gpd.GeoDataFrame(access, geometry=gpd.points_from_xy(access.x, access.y))\n",
    "    #set right crs\n",
    "    access.crs = {'init' :'epsg:4326'}\n",
    "\n",
    "    access = access[['osmid', \"mobility\", \"active_living\", \"nightlife\", \"food_choices\",\n",
    "                             \"community_space\", \"education\", \"health_wellbeing\", 'y', 'x', 'geometry']]\n",
    "\n",
    "    return access"
   ]
  },
  {
   "cell_type": "code",
   "execution_count": 196,
   "metadata": {},
   "outputs": [],
   "source": [
    "#compute accessibility indicator for each category for each metro area\n",
    "MT_access = create_access_gdf(MAREA_pois = MTAREA_pois, network = MT_network, MAREA = MTAREA)\n",
    "MM_access = create_access_gdf(MAREA_pois = MMAREA_pois, network = MM_network, MAREA = MMAREA)\n",
    "MV_access = create_access_gdf(MAREA_pois = MVAREA_pois, network = MV_network, MAREA = MVAREA)\n",
    "MC_access = create_access_gdf(MAREA_pois = MCAREA_pois, network = MC_network, MAREA = MCAREA)\n",
    "ME_access = create_access_gdf(MAREA_pois = MEAREA_pois, network = ME_network, MAREA = MEAREA)\n",
    "MO_access = create_access_gdf(MAREA_pois = MOAREA_pois, network = MO_network, MAREA = MOAREA)"
   ]
  },
  {
   "cell_type": "code",
   "execution_count": 198,
   "metadata": {},
   "outputs": [],
   "source": [
    "#save geodataframes to file\n",
    "os.chdir('C:/Users/Leonardo/Documents/MetroWork/RealEstateData')\n",
    "MT_access.to_file(\"access_cleanfiles/pois/points_access/MT_access.shp\")\n",
    "MM_access.to_file(\"access_cleanfiles/pois/points_access/MM_access.shp\")\n",
    "MV_access.to_file(\"access_cleanfiles/pois/points_access/MV_access.shp\")\n",
    "MC_access.to_file(\"access_cleanfiles/pois/points_access/MC_access.shp\")\n",
    "ME_access.to_file(\"access_cleanfiles/pois/points_access/ME_access.shp\")\n",
    "MO_access.to_file(\"access_cleanfiles/pois/points_access/MO_access.shp\")"
   ]
  },
  {
   "cell_type": "markdown",
   "metadata": {},
   "source": [
    "### Create Census Layer with accessibility metrics"
   ]
  },
  {
   "cell_type": "code",
   "execution_count": 202,
   "metadata": {},
   "outputs": [],
   "source": [
    "##interpolate points in census blocks\n",
    "import os\n",
    "os.chdir(r\"C:\\Users\\Leonardo\\Documents\\MetroWork\") \n",
    "MTcensus = gpd.read_file(\"RealEstateData/CensusData2016_MA/CensusBlocks/MTBLOCKS.shp\")\n",
    "MMcensus = gpd.read_file(\"RealEstateData/CensusData2016_MA/CensusBlocks/MMBLOCKS.shp\")\n",
    "MVcensus = gpd.read_file(\"RealEstateData/CensusData2016_MA/CensusBlocks/MVBLOCKS.shp\")\n",
    "MEcensus = gpd.read_file(\"RealEstateData/CensusData2016_MA/CensusBlocks/MEBLOCKS.shp\")\n",
    "MCcensus = gpd.read_file(\"RealEstateData/CensusData2016_MA/CensusBlocks/MCBLOCKS.shp\")\n",
    "MOcensus = gpd.read_file(\"RealEstateData/CensusData2016_MA/CensusBlocks/MOBLOCKS.shp\")"
   ]
  },
  {
   "cell_type": "code",
   "execution_count": 200,
   "metadata": {},
   "outputs": [],
   "source": [
    "#function to create accessibility by census block\n",
    "def create_census_access(access = None, census = None):\n",
    "    #join transit access points to census\n",
    "    census_access = gpd.sjoin(census, access, how='left')\n",
    "\n",
    "    #group-by OBJECTID and calculate mean price_m2 per census block\n",
    "    census_access['index'] = census_access['DAUID'] \n",
    "    census_access = census_access.groupby('DAUID').mean()\n",
    "    census_access = census_access[[\"mobility\", \"active_living\", \"nightlife\", \"food_choices\",\n",
    "                                   \"community_space\", \"education\", \"health_wellbeing\"]]\n",
    "    census_access = census_access.fillna(method = 'ffill')\n",
    "    census_access = census.merge(census_access, on='DAUID')\n",
    "    census_access = census_access[[\"DAUID\",\"mobility\", \"active_living\", \"nightlife\", \"food_choices\",\n",
    "                                   \"community_space\", \"education\", \"health_wellbeing\", \"geometry\"]]\n",
    "\n",
    "    return census_access"
   ]
  },
  {
   "cell_type": "code",
   "execution_count": 207,
   "metadata": {},
   "outputs": [],
   "source": [
    "# access to amenities by census dissemination area\n",
    "MT_census_access = create_census_access(access = MT_access, census = MTcensus)\n",
    "MM_census_access = create_census_access(access = MM_access, census = MMcensus)\n",
    "MV_census_access = create_census_access(access = MV_access, census = MVcensus)\n",
    "MC_census_access = create_census_access(access = MC_access, census = MCcensus)\n",
    "ME_census_access = create_census_access(access = ME_access, census = MEcensus)\n",
    "MO_census_access = create_census_access(access = MO_access, census = MOcensus)"
   ]
  },
  {
   "cell_type": "code",
   "execution_count": 208,
   "metadata": {},
   "outputs": [],
   "source": [
    "MT_census_access.to_file(\"RealEstateData/access_cleanfiles/MT_DA_walk_to_amenities.shp\")\n",
    "MM_census_access.to_file(\"RealEstateData/access_cleanfiles/poly/MM_DA_walk_to_amenities.shp\")\n",
    "MV_census_access.to_file(\"RealEstateData/access_cleanfiles/poly/MV_DA_walk_to_amenities.shp\")\n",
    "MC_census_access.to_file(\"RealEstateData/access_cleanfiles/poly/MC_DA_walk_to_amenities.shp\")\n",
    "ME_census_access.to_file(\"RealEstateData/access_cleanfiles/poly/ME_DA_walk_to_amenities.shp\")\n",
    "MO_census_access.to_file(\"RealEstateData/access_cleanfiles/poly/MO_DA_walk_to_amenities.shp\")"
   ]
  }
 ],
 "metadata": {
  "kernelspec": {
   "display_name": "Python 3",
   "language": "python",
   "name": "python3"
  },
  "language_info": {
   "codemirror_mode": {
    "name": "ipython",
    "version": 3
   },
   "file_extension": ".py",
   "mimetype": "text/x-python",
   "name": "python",
   "nbconvert_exporter": "python",
   "pygments_lexer": "ipython3",
   "version": "3.7.3"
  }
 },
 "nbformat": 4,
 "nbformat_minor": 4
}
